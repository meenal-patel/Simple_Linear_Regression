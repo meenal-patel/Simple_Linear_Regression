{
 "cells": [
  {
   "cell_type": "code",
   "execution_count": 23,
   "metadata": {
    "ExecuteTime": {
     "end_time": "2021-09-04T06:05:59.306654Z",
     "start_time": "2021-09-04T06:05:55.125324Z"
    },
    "collapsed": true
   },
   "outputs": [
    {
     "name": "stdout",
     "output_type": "stream",
     "text": [
      "Requirement already satisfied: scikit-learn in /Users/anaconda3/lib/python3.7/site-packages (0.24.2)\n",
      "Requirement already satisfied: joblib>=0.11 in /Users/anaconda3/lib/python3.7/site-packages (from scikit-learn) (0.13.2)\n",
      "Requirement already satisfied: scipy>=0.19.1 in /Users/anaconda3/lib/python3.7/site-packages (from scikit-learn) (1.6.2)\n",
      "Requirement already satisfied: threadpoolctl>=2.0.0 in /Users/anaconda3/lib/python3.7/site-packages (from scikit-learn) (2.1.0)\n",
      "Requirement already satisfied: numpy>=1.13.3 in /Users/anaconda3/lib/python3.7/site-packages (from scikit-learn) (1.19.5)\n",
      "\u001b[33mWARNING: You are using pip version 21.0.1; however, version 21.2.4 is available.\n",
      "You should consider upgrading via the '/Users/anaconda3/bin/python -m pip install --upgrade pip' command.\u001b[0m\n",
      "Note: you may need to restart the kernel to use updated packages.\n"
     ]
    }
   ],
   "source": [
    "pip install -U scikit-learn\n"
   ]
  },
  {
   "cell_type": "code",
   "execution_count": 11,
   "metadata": {
    "collapsed": true
   },
   "outputs": [
    {
     "name": "stdout",
     "output_type": "stream",
     "text": [
      "Requirement already satisfied: statsmodels in /Users/somenath/opt/anaconda3/lib/python3.8/site-packages (0.12.2)\n",
      "Requirement already satisfied: numpy>=1.15 in /Users/somenath/opt/anaconda3/lib/python3.8/site-packages (from statsmodels) (1.19.5)\n",
      "Requirement already satisfied: scipy>=1.1 in /Users/somenath/opt/anaconda3/lib/python3.8/site-packages (from statsmodels) (1.8.0)\n",
      "Requirement already satisfied: pandas>=0.21 in /Users/somenath/opt/anaconda3/lib/python3.8/site-packages (from statsmodels) (1.2.4)\n",
      "Requirement already satisfied: patsy>=0.5 in /Users/somenath/opt/anaconda3/lib/python3.8/site-packages (from statsmodels) (0.5.1)\n",
      "Requirement already satisfied: python-dateutil>=2.7.3 in /Users/somenath/opt/anaconda3/lib/python3.8/site-packages (from pandas>=0.21->statsmodels) (2.8.1)\n",
      "Requirement already satisfied: pytz>=2017.3 in /Users/somenath/opt/anaconda3/lib/python3.8/site-packages (from pandas>=0.21->statsmodels) (2021.1)\n",
      "Requirement already satisfied: six in /Users/somenath/opt/anaconda3/lib/python3.8/site-packages (from patsy>=0.5->statsmodels) (1.15.0)\n",
      "Note: you may need to restart the kernel to use updated packages.\n"
     ]
    }
   ],
   "source": [
    "pip install statsmodels"
   ]
  },
  {
   "cell_type": "code",
   "execution_count": 1,
   "metadata": {
    "ExecuteTime": {
     "end_time": "2021-09-04T06:06:00.854395Z",
     "start_time": "2021-09-04T06:06:00.840290Z"
    }
   },
   "outputs": [],
   "source": [
    "import sklearn\n",
    "import pandas as pd \n",
    "import numpy as np\n",
    "import matplotlib.pyplot as plt\n",
    "from sklearn.linear_model import LinearRegression\n",
    "import statsmodels.formula.api as smf\n",
    "from sklearn.metrics import r2_score\n",
    "\n"
   ]
  },
  {
   "cell_type": "code",
   "execution_count": 2,
   "metadata": {
    "ExecuteTime": {
     "end_time": "2021-09-04T06:42:13.099967Z",
     "start_time": "2021-09-04T06:42:12.938785Z"
    }
   },
   "outputs": [
    {
     "name": "stdout",
     "output_type": "stream",
     "text": [
      "AI [Regression ].ipynb\r\n",
      "Cars.csv\r\n",
      "Linear New.py\r\n",
      "MLR.py\r\n",
      "Multi Linear Regression-updated -nonlinearity.ipynb\r\n",
      "Multi Linear Regression-updated .ipynb\r\n",
      "Multi Linear Regression.ipynb\r\n",
      "china_gdp.csv\r\n",
      "untitled\r\n",
      "wc-at.csv\r\n"
     ]
    }
   ],
   "source": [
    "ls"
   ]
  },
  {
   "cell_type": "code",
   "execution_count": 6,
   "metadata": {
    "ExecuteTime": {
     "end_time": "2021-08-31T15:23:36.964652Z",
     "start_time": "2021-08-31T15:23:36.765898Z"
    }
   },
   "outputs": [
    {
     "name": "stdout",
     "output_type": "stream",
     "text": [
      "(109, 2) Shape of Data Frame\n",
      "==============================\n",
      "   Waist     AT\n",
      "0  74.75  25.72\n",
      "1  72.60  25.89\n",
      "2  81.80  42.60\n",
      "3  83.95  42.80\n",
      "4  74.65  29.84\n",
      "5  71.85  21.68\n",
      "6  80.90  29.08\n",
      "7  83.40  32.98\n",
      "8  63.50  11.44\n",
      "9  73.20  32.22\n"
     ]
    },
    {
     "data": {
      "image/png": "[encoded data removed]",
      "text/plain": [
       "<Figure size 1440x504 with 1 Axes>"
      ]
     },
     "metadata": {},
     "output_type": "display_data"
    }
   ],
   "source": [
    "\n",
    "wcat = pd.read_csv(\"wc-at.csv\")\n",
    "\n",
    "print (wcat.shape,\"Shape of Data Frame\")\n",
    "print (\"=\"*30)\n",
    "\n",
    "print (wcat.head(10))\n",
    "\n",
    "plt.figure(figsize=(20,7),facecolor=\"lightgreen\")\n",
    "plt.scatter(wcat.Waist,wcat.AT)\n",
    "plt.xlabel(\"Waist\");\n",
    "plt.ylabel(\"AT\")\n",
    "# print (wcat.AT)\n",
    "plt.show()"
   ]
  },
  {
   "cell_type": "code",
   "execution_count": 5,
   "metadata": {
    "ExecuteTime": {
     "end_time": "2021-08-31T15:23:37.651766Z",
     "start_time": "2021-08-31T15:23:37.634523Z"
    }
   },
   "outputs": [
    {
     "data": {
      "text/html": [
       "<div>\n",
       "<style scoped>\n",
       "    .dataframe tbody tr th:only-of-type {\n",
       "        vertical-align: middle;\n",
       "    }\n",
       "\n",
       "    .dataframe tbody tr th {\n",
       "        vertical-align: top;\n",
       "    }\n",
       "\n",
       "    .dataframe thead th {\n",
       "        text-align: right;\n",
       "    }\n",
       "</style>\n",
       "<table border=\"1\" class=\"dataframe\">\n",
       "  <thead>\n",
       "    <tr style=\"text-align: right;\">\n",
       "      <th></th>\n",
       "      <th>Waist</th>\n",
       "      <th>AT</th>\n",
       "    </tr>\n",
       "  </thead>\n",
       "  <tbody>\n",
       "    <tr>\n",
       "      <th>Waist</th>\n",
       "      <td>1.000000</td>\n",
       "      <td>0.818558</td>\n",
       "    </tr>\n",
       "    <tr>\n",
       "      <th>AT</th>\n",
       "      <td>0.818558</td>\n",
       "      <td>1.000000</td>\n",
       "    </tr>\n",
       "  </tbody>\n",
       "</table>\n",
       "</div>"
      ],
      "text/plain": [
       "          Waist        AT\n",
       "Waist  1.000000  0.818558\n",
       "AT     0.818558  1.000000"
      ]
     },
     "execution_count": 5,
     "metadata": {},
     "output_type": "execute_result"
    }
   ],
   "source": [
    "wcat.corr()"
   ]
  },
  {
   "cell_type": "code",
   "execution_count": 6,
   "metadata": {
    "ExecuteTime": {
     "end_time": "2021-08-31T15:23:38.395483Z",
     "start_time": "2021-08-31T15:23:38.387884Z"
    }
   },
   "outputs": [
    {
     "data": {
      "text/plain": [
       "(109, 2)"
      ]
     },
     "execution_count": 6,
     "metadata": {},
     "output_type": "execute_result"
    }
   ],
   "source": [
    "wcat.shape"
   ]
  },
  {
   "cell_type": "markdown",
   "metadata": {},
   "source": [
    "# creating model with SKLEARN"
   ]
  },
  {
   "cell_type": "code",
   "execution_count": 24,
   "metadata": {},
   "outputs": [
    {
     "data": {
      "text/html": [
       "<div>\n",
       "<style scoped>\n",
       "    .dataframe tbody tr th:only-of-type {\n",
       "        vertical-align: middle;\n",
       "    }\n",
       "\n",
       "    .dataframe tbody tr th {\n",
       "        vertical-align: top;\n",
       "    }\n",
       "\n",
       "    .dataframe thead th {\n",
       "        text-align: right;\n",
       "    }\n",
       "</style>\n",
       "<table border=\"1\" class=\"dataframe\">\n",
       "  <thead>\n",
       "    <tr style=\"text-align: right;\">\n",
       "      <th></th>\n",
       "      <th>Waist</th>\n",
       "      <th>AT</th>\n",
       "    </tr>\n",
       "  </thead>\n",
       "  <tbody>\n",
       "    <tr>\n",
       "      <th>0</th>\n",
       "      <td>74.75</td>\n",
       "      <td>25.72</td>\n",
       "    </tr>\n",
       "    <tr>\n",
       "      <th>1</th>\n",
       "      <td>72.60</td>\n",
       "      <td>25.89</td>\n",
       "    </tr>\n",
       "    <tr>\n",
       "      <th>2</th>\n",
       "      <td>81.80</td>\n",
       "      <td>42.60</td>\n",
       "    </tr>\n",
       "    <tr>\n",
       "      <th>3</th>\n",
       "      <td>83.95</td>\n",
       "      <td>42.80</td>\n",
       "    </tr>\n",
       "    <tr>\n",
       "      <th>4</th>\n",
       "      <td>74.65</td>\n",
       "      <td>29.84</td>\n",
       "    </tr>\n",
       "    <tr>\n",
       "      <th>...</th>\n",
       "      <td>...</td>\n",
       "      <td>...</td>\n",
       "    </tr>\n",
       "    <tr>\n",
       "      <th>104</th>\n",
       "      <td>100.10</td>\n",
       "      <td>124.00</td>\n",
       "    </tr>\n",
       "    <tr>\n",
       "      <th>105</th>\n",
       "      <td>93.30</td>\n",
       "      <td>62.20</td>\n",
       "    </tr>\n",
       "    <tr>\n",
       "      <th>106</th>\n",
       "      <td>101.80</td>\n",
       "      <td>133.00</td>\n",
       "    </tr>\n",
       "    <tr>\n",
       "      <th>107</th>\n",
       "      <td>107.90</td>\n",
       "      <td>208.00</td>\n",
       "    </tr>\n",
       "    <tr>\n",
       "      <th>108</th>\n",
       "      <td>108.50</td>\n",
       "      <td>208.00</td>\n",
       "    </tr>\n",
       "  </tbody>\n",
       "</table>\n",
       "<p>109 rows × 2 columns</p>\n",
       "</div>"
      ],
      "text/plain": [
       "      Waist      AT\n",
       "0     74.75   25.72\n",
       "1     72.60   25.89\n",
       "2     81.80   42.60\n",
       "3     83.95   42.80\n",
       "4     74.65   29.84\n",
       "..      ...     ...\n",
       "104  100.10  124.00\n",
       "105   93.30   62.20\n",
       "106  101.80  133.00\n",
       "107  107.90  208.00\n",
       "108  108.50  208.00\n",
       "\n",
       "[109 rows x 2 columns]"
      ]
     },
     "execution_count": 24,
     "metadata": {},
     "output_type": "execute_result"
    }
   ],
   "source": [
    "wcat"
   ]
  },
  {
   "cell_type": "code",
   "execution_count": 9,
   "metadata": {},
   "outputs": [
    {
     "data": {
      "text/plain": [
       "0       74.75\n",
       "1       72.60\n",
       "2       81.80\n",
       "3       83.95\n",
       "4       74.65\n",
       "        ...  \n",
       "104    100.10\n",
       "105     93.30\n",
       "106    101.80\n",
       "107    107.90\n",
       "108    108.50\n",
       "Name: Waist, Length: 109, dtype: float64"
      ]
     },
     "execution_count": 9,
     "metadata": {},
     "output_type": "execute_result"
    }
   ],
   "source": [
    "wcat[\"Waist\"]"
   ]
  },
  {
   "cell_type": "code",
   "execution_count": 14,
   "metadata": {
    "scrolled": true
   },
   "outputs": [
    {
     "data": {
      "text/plain": [
       "array([[ 74.75],\n",
       "       [ 72.6 ],\n",
       "       [ 81.8 ],\n",
       "       [ 83.95],\n",
       "       [ 74.65],\n",
       "       [ 71.85],\n",
       "       [ 80.9 ],\n",
       "       [ 83.4 ],\n",
       "       [ 63.5 ],\n",
       "       [ 73.2 ],\n",
       "       [ 71.9 ],\n",
       "       [ 75.  ],\n",
       "       [ 73.1 ],\n",
       "       [ 79.  ],\n",
       "       [ 77.  ],\n",
       "       [ 68.85],\n",
       "       [ 75.95],\n",
       "       [ 74.15],\n",
       "       [ 73.8 ],\n",
       "       [ 75.9 ],\n",
       "       [ 76.85],\n",
       "       [ 80.9 ],\n",
       "       [ 79.9 ],\n",
       "       [ 89.2 ],\n",
       "       [ 82.  ],\n",
       "       [ 92.  ],\n",
       "       [ 86.6 ],\n",
       "       [ 80.5 ],\n",
       "       [ 86.  ],\n",
       "       [ 82.5 ],\n",
       "       [ 83.5 ],\n",
       "       [ 88.1 ],\n",
       "       [ 90.8 ],\n",
       "       [ 89.4 ],\n",
       "       [102.  ],\n",
       "       [ 94.5 ],\n",
       "       [ 91.  ],\n",
       "       [103.  ],\n",
       "       [ 80.  ],\n",
       "       [ 79.  ],\n",
       "       [ 83.5 ],\n",
       "       [ 76.  ],\n",
       "       [ 80.5 ],\n",
       "       [ 86.5 ],\n",
       "       [ 83.  ],\n",
       "       [107.1 ],\n",
       "       [ 94.3 ],\n",
       "       [ 94.5 ],\n",
       "       [ 79.7 ],\n",
       "       [ 79.3 ],\n",
       "       [ 89.8 ],\n",
       "       [ 83.8 ],\n",
       "       [ 85.2 ],\n",
       "       [ 75.5 ],\n",
       "       [ 78.4 ],\n",
       "       [ 78.6 ],\n",
       "       [ 87.8 ],\n",
       "       [ 86.3 ],\n",
       "       [ 85.5 ],\n",
       "       [ 83.7 ],\n",
       "       [ 77.6 ],\n",
       "       [ 84.9 ],\n",
       "       [ 79.8 ],\n",
       "       [108.3 ],\n",
       "       [119.6 ],\n",
       "       [119.9 ],\n",
       "       [ 96.5 ],\n",
       "       [105.5 ],\n",
       "       [105.  ],\n",
       "       [107.  ],\n",
       "       [107.  ],\n",
       "       [101.  ],\n",
       "       [ 97.  ],\n",
       "       [100.  ],\n",
       "       [108.  ],\n",
       "       [100.  ],\n",
       "       [103.  ],\n",
       "       [104.  ],\n",
       "       [106.  ],\n",
       "       [109.  ],\n",
       "       [103.5 ],\n",
       "       [110.  ],\n",
       "       [110.  ],\n",
       "       [112.  ],\n",
       "       [108.5 ],\n",
       "       [104.  ],\n",
       "       [111.  ],\n",
       "       [108.5 ],\n",
       "       [121.  ],\n",
       "       [109.  ],\n",
       "       [ 97.5 ],\n",
       "       [105.5 ],\n",
       "       [ 98.  ],\n",
       "       [ 94.5 ],\n",
       "       [ 97.  ],\n",
       "       [105.  ],\n",
       "       [106.  ],\n",
       "       [ 99.  ],\n",
       "       [ 91.  ],\n",
       "       [102.5 ],\n",
       "       [106.  ],\n",
       "       [109.1 ],\n",
       "       [115.  ],\n",
       "       [101.  ],\n",
       "       [100.1 ],\n",
       "       [ 93.3 ],\n",
       "       [101.8 ],\n",
       "       [107.9 ],\n",
       "       [108.5 ]])"
      ]
     },
     "execution_count": 14,
     "metadata": {},
     "output_type": "execute_result"
    }
   ],
   "source": [
    "wcat[\"Waist\"].values.reshape(-1,1)"
   ]
  },
  {
   "cell_type": "code",
   "execution_count": 15,
   "metadata": {
    "ExecuteTime": {
     "end_time": "2021-09-04T06:15:27.102257Z",
     "start_time": "2021-09-04T06:15:26.960981Z"
    }
   },
   "outputs": [],
   "source": [
    "lm = LinearRegression()\n",
    "\n",
    "X = wcat[\"Waist\"].values.reshape(-1,1)\n",
    "Y = wcat[\"AT\"].values.reshape(-1,1)\n",
    "\n",
    "lm.fit(X,Y)\n"
   ]
  },
  {
   "cell_type": "code",
   "execution_count": 27,
   "metadata": {
    "scrolled": true
   },
   "outputs": [
    {
     "data": {
      "text/plain": [
       "0       74.75\n",
       "1       72.60\n",
       "2       81.80\n",
       "3       83.95\n",
       "4       74.65\n",
       "        ...  \n",
       "104    100.10\n",
       "105     93.30\n",
       "106    101.80\n",
       "107    107.90\n",
       "108    108.50\n",
       "Name: Waist, Length: 109, dtype: float64"
      ]
     },
     "execution_count": 27,
     "metadata": {},
     "output_type": "execute_result"
    }
   ],
   "source": [
    "wcat[\"Waist\"]\n"
   ]
  },
  {
   "cell_type": "code",
   "execution_count": 16,
   "metadata": {
    "ExecuteTime": {
     "end_time": "2021-09-04T06:15:40.248725Z",
     "start_time": "2021-09-04T06:15:40.231553Z"
    }
   },
   "outputs": [
    {
     "name": "stdout",
     "output_type": "stream",
     "text": [
      "[[3.45885939]]\n",
      "[-215.98148796]\n"
     ]
    }
   ],
   "source": [
    "print (lm.coef_)#alpha \n",
    "print (lm.intercept_)#beta"
   ]
  },
  {
   "cell_type": "code",
   "execution_count": 17,
   "metadata": {
    "ExecuteTime": {
     "end_time": "2021-09-04T06:25:31.963389Z",
     "start_time": "2021-09-04T06:25:31.950920Z"
    }
   },
   "outputs": [
    {
     "data": {
      "text/plain": [
       "array([[ 42.56825159],\n",
       "       [ 35.1317039 ],\n",
       "       [ 66.95321031],\n",
       "       [ 74.389758  ],\n",
       "       [ 42.22236565],\n",
       "       [ 32.53755936],\n",
       "       [ 63.84023685],\n",
       "       [ 72.48738533],\n",
       "       [  3.65608343],\n",
       "       [ 37.20701954],\n",
       "       [ 32.71050233],\n",
       "       [ 43.43296644],\n",
       "       [ 36.8611336 ],\n",
       "       [ 57.26840401],\n",
       "       [ 50.35068522],\n",
       "       [ 22.16098118],\n",
       "       [ 46.71888286],\n",
       "       [ 40.49293596],\n",
       "       [ 39.28233517],\n",
       "       [ 46.54593989],\n",
       "       [ 49.83185632],\n",
       "       [ 63.84023685],\n",
       "       [ 60.38137746],\n",
       "       [ 92.54876981],\n",
       "       [ 67.64498219],\n",
       "       [102.23357611],\n",
       "       [ 83.55573539],\n",
       "       [ 62.4566931 ],\n",
       "       [ 81.48041975],\n",
       "       [ 69.37441188],\n",
       "       [ 72.83327127],\n",
       "       [ 88.74402448],\n",
       "       [ 98.08294484],\n",
       "       [ 93.24054169],\n",
       "       [136.82217003],\n",
       "       [110.88072459],\n",
       "       [ 98.77471671],\n",
       "       [140.28102942],\n",
       "       [ 60.7272634 ],\n",
       "       [ 57.26840401],\n",
       "       [ 72.83327127],\n",
       "       [ 46.89182583],\n",
       "       [ 62.4566931 ],\n",
       "       [ 83.20984945],\n",
       "       [ 71.10384158],\n",
       "       [154.46235293],\n",
       "       [110.18895271],\n",
       "       [110.88072459],\n",
       "       [ 59.68960558],\n",
       "       [ 58.30606183],\n",
       "       [ 94.62408544],\n",
       "       [ 73.87092909],\n",
       "       [ 78.71333224],\n",
       "       [ 45.16239614],\n",
       "       [ 55.19308837],\n",
       "       [ 55.88486025],\n",
       "       [ 87.70636666],\n",
       "       [ 82.51807757],\n",
       "       [ 79.75099006],\n",
       "       [ 73.52504315],\n",
       "       [ 52.42600086],\n",
       "       [ 77.67567442],\n",
       "       [ 60.03549152],\n",
       "       [158.6129842 ],\n",
       "       [197.69809533],\n",
       "       [198.73575314],\n",
       "       [117.79844337],\n",
       "       [148.9281779 ],\n",
       "       [147.1987482 ],\n",
       "       [154.11646699],\n",
       "       [154.11646699],\n",
       "       [133.36331063],\n",
       "       [119.52787307],\n",
       "       [129.90445124],\n",
       "       [157.57532638],\n",
       "       [129.90445124],\n",
       "       [140.28102942],\n",
       "       [143.73988881],\n",
       "       [150.65760759],\n",
       "       [161.03418577],\n",
       "       [142.01045911],\n",
       "       [164.49304516],\n",
       "       [164.49304516],\n",
       "       [171.41076395],\n",
       "       [159.30475607],\n",
       "       [143.73988881],\n",
       "       [167.95190455],\n",
       "       [159.30475607],\n",
       "       [202.54049847],\n",
       "       [161.03418577],\n",
       "       [121.25730276],\n",
       "       [148.9281779 ],\n",
       "       [122.98673246],\n",
       "       [110.88072459],\n",
       "       [119.52787307],\n",
       "       [147.1987482 ],\n",
       "       [150.65760759],\n",
       "       [126.44559185],\n",
       "       [ 98.77471671],\n",
       "       [138.55159972],\n",
       "       [150.65760759],\n",
       "       [161.38007171],\n",
       "       [181.78734212],\n",
       "       [133.36331063],\n",
       "       [130.25033718],\n",
       "       [106.73009332],\n",
       "       [136.13039815],\n",
       "       [157.22944044],\n",
       "       [159.30475607]])"
      ]
     },
     "execution_count": 17,
     "metadata": {},
     "output_type": "execute_result"
    }
   ],
   "source": [
    "lm.predict(X)"
   ]
  },
  {
   "cell_type": "code",
   "execution_count": 18,
   "metadata": {
    "ExecuteTime": {
     "end_time": "2021-09-04T07:04:29.750193Z",
     "start_time": "2021-09-04T07:04:29.457912Z"
    }
   },
   "outputs": [
    {
     "data": {
      "image/png": "[encoded data removed]",
      "text/plain": [
       "<Figure size 720x504 with 1 Axes>"
      ]
     },
     "metadata": {},
     "output_type": "display_data"
    }
   ],
   "source": [
    "plt.figure(figsize=(10,7),facecolor=\"lightgreen\")\n",
    "plt.scatter(wcat.Waist,(wcat.AT),color=\"black\",label=\"actual\");\n",
    "plt.plot(wcat.Waist,lm.predict(X),label=\"predicted\",color=\"green\",linestyle=\"-.\");\n",
    "plt.scatter(wcat.Waist,lm.predict(X),color=\"red\")\n",
    "plt.xlabel(\"Waist\");\n",
    "plt.ylabel(\"AT\")\n",
    "plt.xlim(60,120)\n",
    "plt.ylim(0,+300)\n",
    "# print (wcat.AT)\n",
    "plt.legend(loc=\"best\")\n",
    "plt.show()\n",
    "\n",
    "\n"
   ]
  },
  {
   "cell_type": "markdown",
   "metadata": {},
   "source": [
    "## model validation "
   ]
  },
  {
   "cell_type": "code",
   "execution_count": 19,
   "metadata": {
    "ExecuteTime": {
     "end_time": "2021-08-31T15:24:15.231617Z",
     "start_time": "2021-08-31T15:24:15.224607Z"
    }
   },
   "outputs": [
    {
     "data": {
      "text/plain": [
       "0.6700368930528429"
      ]
     },
     "execution_count": 19,
     "metadata": {},
     "output_type": "execute_result"
    }
   ],
   "source": [
    "pred_train_lm =lm.predict(X)\n",
    "r2_score(wcat[\"AT\"],pred_train_lm)\n"
   ]
  },
  {
   "cell_type": "markdown",
   "metadata": {},
   "source": [
    "# model with statsmodels"
   ]
  },
  {
   "cell_type": "code",
   "execution_count": 7,
   "metadata": {
    "ExecuteTime": {
     "end_time": "2021-08-31T15:24:16.472432Z",
     "start_time": "2021-08-31T15:24:16.460020Z"
    }
   },
   "outputs": [
    {
     "data": {
      "text/html": [
       "<div>\n",
       "<style scoped>\n",
       "    .dataframe tbody tr th:only-of-type {\n",
       "        vertical-align: middle;\n",
       "    }\n",
       "\n",
       "    .dataframe tbody tr th {\n",
       "        vertical-align: top;\n",
       "    }\n",
       "\n",
       "    .dataframe thead th {\n",
       "        text-align: right;\n",
       "    }\n",
       "</style>\n",
       "<table border=\"1\" class=\"dataframe\">\n",
       "  <thead>\n",
       "    <tr style=\"text-align: right;\">\n",
       "      <th></th>\n",
       "      <th>Waist</th>\n",
       "      <th>AT</th>\n",
       "    </tr>\n",
       "  </thead>\n",
       "  <tbody>\n",
       "    <tr>\n",
       "      <th>0</th>\n",
       "      <td>74.75</td>\n",
       "      <td>25.72</td>\n",
       "    </tr>\n",
       "    <tr>\n",
       "      <th>1</th>\n",
       "      <td>72.60</td>\n",
       "      <td>25.89</td>\n",
       "    </tr>\n",
       "    <tr>\n",
       "      <th>2</th>\n",
       "      <td>81.80</td>\n",
       "      <td>42.60</td>\n",
       "    </tr>\n",
       "    <tr>\n",
       "      <th>3</th>\n",
       "      <td>83.95</td>\n",
       "      <td>42.80</td>\n",
       "    </tr>\n",
       "    <tr>\n",
       "      <th>4</th>\n",
       "      <td>74.65</td>\n",
       "      <td>29.84</td>\n",
       "    </tr>\n",
       "    <tr>\n",
       "      <th>...</th>\n",
       "      <td>...</td>\n",
       "      <td>...</td>\n",
       "    </tr>\n",
       "    <tr>\n",
       "      <th>104</th>\n",
       "      <td>100.10</td>\n",
       "      <td>124.00</td>\n",
       "    </tr>\n",
       "    <tr>\n",
       "      <th>105</th>\n",
       "      <td>93.30</td>\n",
       "      <td>62.20</td>\n",
       "    </tr>\n",
       "    <tr>\n",
       "      <th>106</th>\n",
       "      <td>101.80</td>\n",
       "      <td>133.00</td>\n",
       "    </tr>\n",
       "    <tr>\n",
       "      <th>107</th>\n",
       "      <td>107.90</td>\n",
       "      <td>208.00</td>\n",
       "    </tr>\n",
       "    <tr>\n",
       "      <th>108</th>\n",
       "      <td>108.50</td>\n",
       "      <td>208.00</td>\n",
       "    </tr>\n",
       "  </tbody>\n",
       "</table>\n",
       "<p>109 rows × 2 columns</p>\n",
       "</div>"
      ],
      "text/plain": [
       "      Waist      AT\n",
       "0     74.75   25.72\n",
       "1     72.60   25.89\n",
       "2     81.80   42.60\n",
       "3     83.95   42.80\n",
       "4     74.65   29.84\n",
       "..      ...     ...\n",
       "104  100.10  124.00\n",
       "105   93.30   62.20\n",
       "106  101.80  133.00\n",
       "107  107.90  208.00\n",
       "108  108.50  208.00\n",
       "\n",
       "[109 rows x 2 columns]"
      ]
     },
     "execution_count": 7,
     "metadata": {},
     "output_type": "execute_result"
    }
   ],
   "source": [
    "wcat"
   ]
  },
  {
   "cell_type": "code",
   "execution_count": 8,
   "metadata": {
    "ExecuteTime": {
     "end_time": "2021-09-04T06:29:55.380268Z",
     "start_time": "2021-09-04T06:29:55.371110Z"
    }
   },
   "outputs": [],
   "source": [
    "first_model = smf.ols(\"AT~Waist\",data=wcat).fit()\n",
    "# pred_statsmodel = first_model.predict(wcat[\"Waist\"])\n",
    "# r2_score(wcat[\"AT\"],pred_train_lm)"
   ]
  },
  {
   "cell_type": "code",
   "execution_count": 9,
   "metadata": {},
   "outputs": [
    {
     "data": {
      "text/plain": [
       "Intercept   -215.981488\n",
       "Waist          3.458859\n",
       "dtype: float64"
      ]
     },
     "execution_count": 9,
     "metadata": {},
     "output_type": "execute_result"
    }
   ],
   "source": [
    "first_model.params"
   ]
  },
  {
   "cell_type": "code",
   "execution_count": 10,
   "metadata": {
    "ExecuteTime": {
     "end_time": "2021-08-31T15:24:40.393926Z",
     "start_time": "2021-08-31T15:24:40.382160Z"
    }
   },
   "outputs": [
    {
     "data": {
      "text/plain": [
       "Intercept   -215.981488\n",
       "Waist          3.458859\n",
       "dtype: float64"
      ]
     },
     "execution_count": 10,
     "metadata": {},
     "output_type": "execute_result"
    }
   ],
   "source": [
    "first_model.params\n",
    "\n",
    "# AT =3.45*Wc -215.98\n",
    "\n",
    "#3.45*80 -215.98"
   ]
  },
  {
   "cell_type": "code",
   "execution_count": 11,
   "metadata": {
    "ExecuteTime": {
     "end_time": "2021-08-31T15:24:40.993728Z",
     "start_time": "2021-08-31T15:24:40.978930Z"
    },
    "scrolled": false
   },
   "outputs": [
    {
     "data": {
      "text/html": [
       "<table class=\"simpletable\">\n",
       "<caption>OLS Regression Results</caption>\n",
       "<tr>\n",
       "  <th>Dep. Variable:</th>           <td>AT</td>        <th>  R-squared:         </th> <td>   0.670</td>\n",
       "</tr>\n",
       "<tr>\n",
       "  <th>Model:</th>                   <td>OLS</td>       <th>  Adj. R-squared:    </th> <td>   0.667</td>\n",
       "</tr>\n",
       "<tr>\n",
       "  <th>Method:</th>             <td>Least Squares</td>  <th>  F-statistic:       </th> <td>   217.3</td>\n",
       "</tr>\n",
       "<tr>\n",
       "  <th>Date:</th>             <td>Tue, 18 Oct 2022</td> <th>  Prob (F-statistic):</th> <td>1.62e-27</td>\n",
       "</tr>\n",
       "<tr>\n",
       "  <th>Time:</th>                 <td>07:57:20</td>     <th>  Log-Likelihood:    </th> <td> -534.99</td>\n",
       "</tr>\n",
       "<tr>\n",
       "  <th>No. Observations:</th>      <td>   109</td>      <th>  AIC:               </th> <td>   1074.</td>\n",
       "</tr>\n",
       "<tr>\n",
       "  <th>Df Residuals:</th>          <td>   107</td>      <th>  BIC:               </th> <td>   1079.</td>\n",
       "</tr>\n",
       "<tr>\n",
       "  <th>Df Model:</th>              <td>     1</td>      <th>                     </th>     <td> </td>   \n",
       "</tr>\n",
       "<tr>\n",
       "  <th>Covariance Type:</th>      <td>nonrobust</td>    <th>                     </th>     <td> </td>   \n",
       "</tr>\n",
       "</table>\n",
       "<table class=\"simpletable\">\n",
       "<tr>\n",
       "      <td></td>         <th>coef</th>     <th>std err</th>      <th>t</th>      <th>P>|t|</th>  <th>[0.025</th>    <th>0.975]</th>  \n",
       "</tr>\n",
       "<tr>\n",
       "  <th>Intercept</th> <td> -215.9815</td> <td>   21.796</td> <td>   -9.909</td> <td> 0.000</td> <td> -259.190</td> <td> -172.773</td>\n",
       "</tr>\n",
       "<tr>\n",
       "  <th>Waist</th>     <td>    3.4589</td> <td>    0.235</td> <td>   14.740</td> <td> 0.000</td> <td>    2.994</td> <td>    3.924</td>\n",
       "</tr>\n",
       "</table>\n",
       "<table class=\"simpletable\">\n",
       "<tr>\n",
       "  <th>Omnibus:</th>       <td> 3.960</td> <th>  Durbin-Watson:     </th> <td>   1.560</td>\n",
       "</tr>\n",
       "<tr>\n",
       "  <th>Prob(Omnibus):</th> <td> 0.138</td> <th>  Jarque-Bera (JB):  </th> <td>   4.596</td>\n",
       "</tr>\n",
       "<tr>\n",
       "  <th>Skew:</th>          <td> 0.104</td> <th>  Prob(JB):          </th> <td>   0.100</td>\n",
       "</tr>\n",
       "<tr>\n",
       "  <th>Kurtosis:</th>      <td> 3.984</td> <th>  Cond. No.          </th> <td>    639.</td>\n",
       "</tr>\n",
       "</table><br/><br/>Notes:<br/>[1] Standard Errors assume that the covariance matrix of the errors is correctly specified."
      ],
      "text/plain": [
       "<class 'statsmodels.iolib.summary.Summary'>\n",
       "\"\"\"\n",
       "                            OLS Regression Results                            \n",
       "==============================================================================\n",
       "Dep. Variable:                     AT   R-squared:                       0.670\n",
       "Model:                            OLS   Adj. R-squared:                  0.667\n",
       "Method:                 Least Squares   F-statistic:                     217.3\n",
       "Date:                Tue, 18 Oct 2022   Prob (F-statistic):           1.62e-27\n",
       "Time:                        07:57:20   Log-Likelihood:                -534.99\n",
       "No. Observations:                 109   AIC:                             1074.\n",
       "Df Residuals:                     107   BIC:                             1079.\n",
       "Df Model:                           1                                         \n",
       "Covariance Type:            nonrobust                                         \n",
       "==============================================================================\n",
       "                 coef    std err          t      P>|t|      [0.025      0.975]\n",
       "------------------------------------------------------------------------------\n",
       "Intercept   -215.9815     21.796     -9.909      0.000    -259.190    -172.773\n",
       "Waist          3.4589      0.235     14.740      0.000       2.994       3.924\n",
       "==============================================================================\n",
       "Omnibus:                        3.960   Durbin-Watson:                   1.560\n",
       "Prob(Omnibus):                  0.138   Jarque-Bera (JB):                4.596\n",
       "Skew:                           0.104   Prob(JB):                        0.100\n",
       "Kurtosis:                       3.984   Cond. No.                         639.\n",
       "==============================================================================\n",
       "\n",
       "Notes:\n",
       "[1] Standard Errors assume that the covariance matrix of the errors is correctly specified.\n",
       "\"\"\""
      ]
     },
     "execution_count": 11,
     "metadata": {},
     "output_type": "execute_result"
    }
   ],
   "source": [
    "first_model.summary()"
   ]
  },
  {
   "cell_type": "code",
   "execution_count": 12,
   "metadata": {},
   "outputs": [
    {
     "data": {
      "text/plain": [
       "0     -16.848252\n",
       "1      -9.241704\n",
       "2     -24.353210\n",
       "3     -31.589758\n",
       "4     -12.382366\n",
       "         ...    \n",
       "104    -6.250337\n",
       "105   -44.530093\n",
       "106    -3.130398\n",
       "107    50.770560\n",
       "108    48.695244\n",
       "Length: 109, dtype: float64"
      ]
     },
     "execution_count": 12,
     "metadata": {},
     "output_type": "execute_result"
    }
   ],
   "source": [
    "first_model.resid"
   ]
  },
  {
   "cell_type": "code",
   "execution_count": 13,
   "metadata": {},
   "outputs": [
    {
     "data": {
      "text/plain": [
       "array([ 42.56825159,  35.1317039 ,  66.95321031,  74.389758  ,\n",
       "        42.22236565,  32.53755936,  63.84023685,  72.48738533,\n",
       "         3.65608343,  37.20701954,  32.71050233,  43.43296644,\n",
       "        36.8611336 ,  57.26840401,  50.35068522,  22.16098118,\n",
       "        46.71888286,  40.49293596,  39.28233517,  46.54593989,\n",
       "        49.83185632,  63.84023685,  60.38137746,  92.54876981,\n",
       "        67.64498219, 102.23357611,  83.55573539,  62.4566931 ,\n",
       "        81.48041975,  69.37441188,  72.83327127,  88.74402448,\n",
       "        98.08294484,  93.24054169, 136.82217003, 110.88072459,\n",
       "        98.77471671, 140.28102942,  60.7272634 ,  57.26840401,\n",
       "        72.83327127,  46.89182583,  62.4566931 ,  83.20984945,\n",
       "        71.10384158, 154.46235293, 110.18895271, 110.88072459,\n",
       "        59.68960558,  58.30606183,  94.62408544,  73.87092909,\n",
       "        78.71333224,  45.16239614,  55.19308837,  55.88486025,\n",
       "        87.70636666,  82.51807757,  79.75099006,  73.52504315,\n",
       "        52.42600086,  77.67567442,  60.03549152, 158.6129842 ,\n",
       "       197.69809533, 198.73575314, 117.79844337, 148.9281779 ,\n",
       "       147.1987482 , 154.11646699, 154.11646699, 133.36331063,\n",
       "       119.52787307, 129.90445124, 157.57532638, 129.90445124,\n",
       "       140.28102942, 143.73988881, 150.65760759, 161.03418577,\n",
       "       142.01045911, 164.49304516, 164.49304516, 171.41076395,\n",
       "       159.30475607, 143.73988881, 167.95190455, 159.30475607,\n",
       "       202.54049847, 161.03418577, 121.25730276, 148.9281779 ,\n",
       "       122.98673246, 110.88072459, 119.52787307, 147.1987482 ,\n",
       "       150.65760759, 126.44559185,  98.77471671, 138.55159972,\n",
       "       150.65760759, 161.38007171, 181.78734212, 133.36331063,\n",
       "       130.25033718, 106.73009332, 136.13039815, 157.22944044,\n",
       "       159.30475607])"
      ]
     },
     "execution_count": 13,
     "metadata": {},
     "output_type": "execute_result"
    }
   ],
   "source": [
    "first_model.predict()"
   ]
  },
  {
   "cell_type": "code",
   "execution_count": 14,
   "metadata": {},
   "outputs": [
    {
     "data": {
      "image/png": "[encoded data removed]",
      "text/plain": [
       "<Figure size 720x504 with 1 Axes>"
      ]
     },
     "metadata": {},
     "output_type": "display_data"
    }
   ],
   "source": [
    "plt.figure(figsize=(10,7),facecolor=\"lightgreen\")\n",
    "plt.scatter(wcat.Waist,wcat.AT,color=\"black\",label=\"actual\");\n",
    "plt.plot(wcat.Waist,first_model.predict(),label=\"predicted\",color=\"red\",linestyle=\"-.\");\n",
    "plt.scatter(wcat.Waist,first_model.predict(),color=\"red\")\n",
    "plt.xlabel(\"Waist\");\n",
    "plt.ylabel(\"AT\")\n",
    "plt.xlim(60,120)\n",
    "plt.ylim(0,+300)\n",
    "# print (wcat.AT)\n",
    "plt.legend(loc=\"best\")\n",
    "plt.show()\n",
    "\n",
    "\n"
   ]
  },
  {
   "cell_type": "code",
   "execution_count": 15,
   "metadata": {},
   "outputs": [],
   "source": [
    "# AT = a*WC+b\n",
    "# AT = a*log(wc)+b\n",
    "# AT = a*exp(wc)+b\n",
    "# At = a1*wc+a2*wc^2+b\n",
    "\n",
    "#y=2x+4x^2+10"
   ]
  },
  {
   "cell_type": "code",
   "execution_count": 16,
   "metadata": {
    "ExecuteTime": {
     "end_time": "2021-08-08T10:59:30.763494Z",
     "start_time": "2021-08-08T10:59:30.688901Z"
    }
   },
   "outputs": [
    {
     "data": {
      "text/html": [
       "<table class=\"simpletable\">\n",
       "<caption>OLS Regression Results</caption>\n",
       "<tr>\n",
       "  <th>Dep. Variable:</th>           <td>AT</td>        <th>  R-squared:         </th> <td>   0.675</td>\n",
       "</tr>\n",
       "<tr>\n",
       "  <th>Model:</th>                   <td>OLS</td>       <th>  Adj. R-squared:    </th> <td>   0.672</td>\n",
       "</tr>\n",
       "<tr>\n",
       "  <th>Method:</th>             <td>Least Squares</td>  <th>  F-statistic:       </th> <td>   222.6</td>\n",
       "</tr>\n",
       "<tr>\n",
       "  <th>Date:</th>             <td>Tue, 18 Oct 2022</td> <th>  Prob (F-statistic):</th> <td>6.80e-28</td>\n",
       "</tr>\n",
       "<tr>\n",
       "  <th>Time:</th>                 <td>07:57:21</td>     <th>  Log-Likelihood:    </th> <td> -534.11</td>\n",
       "</tr>\n",
       "<tr>\n",
       "  <th>No. Observations:</th>      <td>   109</td>      <th>  AIC:               </th> <td>   1072.</td>\n",
       "</tr>\n",
       "<tr>\n",
       "  <th>Df Residuals:</th>          <td>   107</td>      <th>  BIC:               </th> <td>   1078.</td>\n",
       "</tr>\n",
       "<tr>\n",
       "  <th>Df Model:</th>              <td>     1</td>      <th>                     </th>     <td> </td>   \n",
       "</tr>\n",
       "<tr>\n",
       "  <th>Covariance Type:</th>      <td>nonrobust</td>    <th>                     </th>     <td> </td>   \n",
       "</tr>\n",
       "</table>\n",
       "<table class=\"simpletable\">\n",
       "<tr>\n",
       "        <td></td>           <th>coef</th>     <th>std err</th>      <th>t</th>      <th>P>|t|</th>  <th>[0.025</th>    <th>0.975]</th>  \n",
       "</tr>\n",
       "<tr>\n",
       "  <th>Intercept</th>     <td>-1328.3420</td> <td>   95.923</td> <td>  -13.848</td> <td> 0.000</td> <td>-1518.498</td> <td>-1138.186</td>\n",
       "</tr>\n",
       "<tr>\n",
       "  <th>np.log(Waist)</th> <td>  317.1356</td> <td>   21.258</td> <td>   14.918</td> <td> 0.000</td> <td>  274.994</td> <td>  359.277</td>\n",
       "</tr>\n",
       "</table>\n",
       "<table class=\"simpletable\">\n",
       "<tr>\n",
       "  <th>Omnibus:</th>       <td> 3.317</td> <th>  Durbin-Watson:     </th> <td>   1.599</td>\n",
       "</tr>\n",
       "<tr>\n",
       "  <th>Prob(Omnibus):</th> <td> 0.190</td> <th>  Jarque-Bera (JB):  </th> <td>   2.908</td>\n",
       "</tr>\n",
       "<tr>\n",
       "  <th>Skew:</th>          <td> 0.235</td> <th>  Prob(JB):          </th> <td>   0.234</td>\n",
       "</tr>\n",
       "<tr>\n",
       "  <th>Kurtosis:</th>      <td> 3.647</td> <th>  Cond. No.          </th> <td>    145.</td>\n",
       "</tr>\n",
       "</table><br/><br/>Notes:<br/>[1] Standard Errors assume that the covariance matrix of the errors is correctly specified."
      ],
      "text/plain": [
       "<class 'statsmodels.iolib.summary.Summary'>\n",
       "\"\"\"\n",
       "                            OLS Regression Results                            \n",
       "==============================================================================\n",
       "Dep. Variable:                     AT   R-squared:                       0.675\n",
       "Model:                            OLS   Adj. R-squared:                  0.672\n",
       "Method:                 Least Squares   F-statistic:                     222.6\n",
       "Date:                Tue, 18 Oct 2022   Prob (F-statistic):           6.80e-28\n",
       "Time:                        07:57:21   Log-Likelihood:                -534.11\n",
       "No. Observations:                 109   AIC:                             1072.\n",
       "Df Residuals:                     107   BIC:                             1078.\n",
       "Df Model:                           1                                         \n",
       "Covariance Type:            nonrobust                                         \n",
       "=================================================================================\n",
       "                    coef    std err          t      P>|t|      [0.025      0.975]\n",
       "---------------------------------------------------------------------------------\n",
       "Intercept     -1328.3420     95.923    -13.848      0.000   -1518.498   -1138.186\n",
       "np.log(Waist)   317.1356     21.258     14.918      0.000     274.994     359.277\n",
       "==============================================================================\n",
       "Omnibus:                        3.317   Durbin-Watson:                   1.599\n",
       "Prob(Omnibus):                  0.190   Jarque-Bera (JB):                2.908\n",
       "Skew:                           0.235   Prob(JB):                        0.234\n",
       "Kurtosis:                       3.647   Cond. No.                         145.\n",
       "==============================================================================\n",
       "\n",
       "Notes:\n",
       "[1] Standard Errors assume that the covariance matrix of the errors is correctly specified.\n",
       "\"\"\""
      ]
     },
     "execution_count": 16,
     "metadata": {},
     "output_type": "execute_result"
    }
   ],
   "source": [
    "model2 = smf.ols('AT~np.log(Waist)',data=wcat).fit()\n",
    "model2.summary()\n"
   ]
  },
  {
   "cell_type": "code",
   "execution_count": 17,
   "metadata": {
    "ExecuteTime": {
     "end_time": "2021-08-08T10:59:31.515522Z",
     "start_time": "2021-08-08T10:59:31.464480Z"
    }
   },
   "outputs": [
    {
     "data": {
      "text/html": [
       "<table class=\"simpletable\">\n",
       "<caption>OLS Regression Results</caption>\n",
       "<tr>\n",
       "  <th>Dep. Variable:</th>       <td>np.log(AT)</td>    <th>  R-squared:         </th> <td>   0.707</td>\n",
       "</tr>\n",
       "<tr>\n",
       "  <th>Model:</th>                   <td>OLS</td>       <th>  Adj. R-squared:    </th> <td>   0.704</td>\n",
       "</tr>\n",
       "<tr>\n",
       "  <th>Method:</th>             <td>Least Squares</td>  <th>  F-statistic:       </th> <td>   258.3</td>\n",
       "</tr>\n",
       "<tr>\n",
       "  <th>Date:</th>             <td>Tue, 18 Oct 2022</td> <th>  Prob (F-statistic):</th> <td>2.68e-30</td>\n",
       "</tr>\n",
       "<tr>\n",
       "  <th>Time:</th>                 <td>07:57:21</td>     <th>  Log-Likelihood:    </th> <td> -40.123</td>\n",
       "</tr>\n",
       "<tr>\n",
       "  <th>No. Observations:</th>      <td>   109</td>      <th>  AIC:               </th> <td>   84.25</td>\n",
       "</tr>\n",
       "<tr>\n",
       "  <th>Df Residuals:</th>          <td>   107</td>      <th>  BIC:               </th> <td>   89.63</td>\n",
       "</tr>\n",
       "<tr>\n",
       "  <th>Df Model:</th>              <td>     1</td>      <th>                     </th>     <td> </td>   \n",
       "</tr>\n",
       "<tr>\n",
       "  <th>Covariance Type:</th>      <td>nonrobust</td>    <th>                     </th>     <td> </td>   \n",
       "</tr>\n",
       "</table>\n",
       "<table class=\"simpletable\">\n",
       "<tr>\n",
       "      <td></td>         <th>coef</th>     <th>std err</th>      <th>t</th>      <th>P>|t|</th>  <th>[0.025</th>    <th>0.975]</th>  \n",
       "</tr>\n",
       "<tr>\n",
       "  <th>Intercept</th> <td>    0.7410</td> <td>    0.233</td> <td>    3.185</td> <td> 0.002</td> <td>    0.280</td> <td>    1.202</td>\n",
       "</tr>\n",
       "<tr>\n",
       "  <th>Waist</th>     <td>    0.0403</td> <td>    0.003</td> <td>   16.073</td> <td> 0.000</td> <td>    0.035</td> <td>    0.045</td>\n",
       "</tr>\n",
       "</table>\n",
       "<table class=\"simpletable\">\n",
       "<tr>\n",
       "  <th>Omnibus:</th>       <td> 2.604</td> <th>  Durbin-Watson:     </th> <td>   1.201</td>\n",
       "</tr>\n",
       "<tr>\n",
       "  <th>Prob(Omnibus):</th> <td> 0.272</td> <th>  Jarque-Bera (JB):  </th> <td>   2.117</td>\n",
       "</tr>\n",
       "<tr>\n",
       "  <th>Skew:</th>          <td>-0.329</td> <th>  Prob(JB):          </th> <td>   0.347</td>\n",
       "</tr>\n",
       "<tr>\n",
       "  <th>Kurtosis:</th>      <td> 3.182</td> <th>  Cond. No.          </th> <td>    639.</td>\n",
       "</tr>\n",
       "</table><br/><br/>Notes:<br/>[1] Standard Errors assume that the covariance matrix of the errors is correctly specified."
      ],
      "text/plain": [
       "<class 'statsmodels.iolib.summary.Summary'>\n",
       "\"\"\"\n",
       "                            OLS Regression Results                            \n",
       "==============================================================================\n",
       "Dep. Variable:             np.log(AT)   R-squared:                       0.707\n",
       "Model:                            OLS   Adj. R-squared:                  0.704\n",
       "Method:                 Least Squares   F-statistic:                     258.3\n",
       "Date:                Tue, 18 Oct 2022   Prob (F-statistic):           2.68e-30\n",
       "Time:                        07:57:21   Log-Likelihood:                -40.123\n",
       "No. Observations:                 109   AIC:                             84.25\n",
       "Df Residuals:                     107   BIC:                             89.63\n",
       "Df Model:                           1                                         \n",
       "Covariance Type:            nonrobust                                         \n",
       "==============================================================================\n",
       "                 coef    std err          t      P>|t|      [0.025      0.975]\n",
       "------------------------------------------------------------------------------\n",
       "Intercept      0.7410      0.233      3.185      0.002       0.280       1.202\n",
       "Waist          0.0403      0.003     16.073      0.000       0.035       0.045\n",
       "==============================================================================\n",
       "Omnibus:                        2.604   Durbin-Watson:                   1.201\n",
       "Prob(Omnibus):                  0.272   Jarque-Bera (JB):                2.117\n",
       "Skew:                          -0.329   Prob(JB):                        0.347\n",
       "Kurtosis:                       3.182   Cond. No.                         639.\n",
       "==============================================================================\n",
       "\n",
       "Notes:\n",
       "[1] Standard Errors assume that the covariance matrix of the errors is correctly specified.\n",
       "\"\"\""
      ]
     },
     "execution_count": 17,
     "metadata": {},
     "output_type": "execute_result"
    }
   ],
   "source": [
    "model3 = smf.ols('np.log(AT)~(Waist)',data=wcat).fit()\n",
    "model3.summary() "
   ]
  },
  {
   "cell_type": "code",
   "execution_count": 18,
   "metadata": {
    "ExecuteTime": {
     "end_time": "2021-08-08T10:59:32.284261Z",
     "start_time": "2021-08-08T10:59:32.251920Z"
    }
   },
   "outputs": [
    {
     "data": {
      "text/html": [
       "<table class=\"simpletable\">\n",
       "<caption>OLS Regression Results</caption>\n",
       "<tr>\n",
       "  <th>Dep. Variable:</th>       <td>np.log(AT)</td>    <th>  R-squared:         </th> <td>   0.779</td>\n",
       "</tr>\n",
       "<tr>\n",
       "  <th>Model:</th>                   <td>OLS</td>       <th>  Adj. R-squared:    </th> <td>   0.775</td>\n",
       "</tr>\n",
       "<tr>\n",
       "  <th>Method:</th>             <td>Least Squares</td>  <th>  F-statistic:       </th> <td>   186.8</td>\n",
       "</tr>\n",
       "<tr>\n",
       "  <th>Date:</th>             <td>Tue, 18 Oct 2022</td> <th>  Prob (F-statistic):</th> <td>1.80e-35</td>\n",
       "</tr>\n",
       "<tr>\n",
       "  <th>Time:</th>                 <td>07:57:21</td>     <th>  Log-Likelihood:    </th> <td> -24.779</td>\n",
       "</tr>\n",
       "<tr>\n",
       "  <th>No. Observations:</th>      <td>   109</td>      <th>  AIC:               </th> <td>   55.56</td>\n",
       "</tr>\n",
       "<tr>\n",
       "  <th>Df Residuals:</th>          <td>   106</td>      <th>  BIC:               </th> <td>   63.63</td>\n",
       "</tr>\n",
       "<tr>\n",
       "  <th>Df Model:</th>              <td>     2</td>      <th>                     </th>     <td> </td>   \n",
       "</tr>\n",
       "<tr>\n",
       "  <th>Covariance Type:</th>      <td>nonrobust</td>    <th>                     </th>     <td> </td>   \n",
       "</tr>\n",
       "</table>\n",
       "<table class=\"simpletable\">\n",
       "<tr>\n",
       "      <td></td>         <th>coef</th>     <th>std err</th>      <th>t</th>      <th>P>|t|</th>  <th>[0.025</th>    <th>0.975]</th>  \n",
       "</tr>\n",
       "<tr>\n",
       "  <th>Intercept</th> <td>   -7.8241</td> <td>    1.473</td> <td>   -5.312</td> <td> 0.000</td> <td>  -10.744</td> <td>   -4.904</td>\n",
       "</tr>\n",
       "<tr>\n",
       "  <th>Waist</th>     <td>    0.2289</td> <td>    0.032</td> <td>    7.107</td> <td> 0.000</td> <td>    0.165</td> <td>    0.293</td>\n",
       "</tr>\n",
       "<tr>\n",
       "  <th>Waist_Sq</th>  <td>   -0.0010</td> <td>    0.000</td> <td>   -5.871</td> <td> 0.000</td> <td>   -0.001</td> <td>   -0.001</td>\n",
       "</tr>\n",
       "</table>\n",
       "<table class=\"simpletable\">\n",
       "<tr>\n",
       "  <th>Omnibus:</th>       <td> 0.325</td> <th>  Durbin-Watson:     </th> <td>   1.464</td>\n",
       "</tr>\n",
       "<tr>\n",
       "  <th>Prob(Omnibus):</th> <td> 0.850</td> <th>  Jarque-Bera (JB):  </th> <td>   0.271</td>\n",
       "</tr>\n",
       "<tr>\n",
       "  <th>Skew:</th>          <td> 0.119</td> <th>  Prob(JB):          </th> <td>   0.873</td>\n",
       "</tr>\n",
       "<tr>\n",
       "  <th>Kurtosis:</th>      <td> 2.949</td> <th>  Cond. No.          </th> <td>4.49e+05</td>\n",
       "</tr>\n",
       "</table><br/><br/>Notes:<br/>[1] Standard Errors assume that the covariance matrix of the errors is correctly specified.<br/>[2] The condition number is large, 4.49e+05. This might indicate that there are<br/>strong multicollinearity or other numerical problems."
      ],
      "text/plain": [
       "<class 'statsmodels.iolib.summary.Summary'>\n",
       "\"\"\"\n",
       "                            OLS Regression Results                            \n",
       "==============================================================================\n",
       "Dep. Variable:             np.log(AT)   R-squared:                       0.779\n",
       "Model:                            OLS   Adj. R-squared:                  0.775\n",
       "Method:                 Least Squares   F-statistic:                     186.8\n",
       "Date:                Tue, 18 Oct 2022   Prob (F-statistic):           1.80e-35\n",
       "Time:                        07:57:21   Log-Likelihood:                -24.779\n",
       "No. Observations:                 109   AIC:                             55.56\n",
       "Df Residuals:                     106   BIC:                             63.63\n",
       "Df Model:                           2                                         \n",
       "Covariance Type:            nonrobust                                         \n",
       "==============================================================================\n",
       "                 coef    std err          t      P>|t|      [0.025      0.975]\n",
       "------------------------------------------------------------------------------\n",
       "Intercept     -7.8241      1.473     -5.312      0.000     -10.744      -4.904\n",
       "Waist          0.2289      0.032      7.107      0.000       0.165       0.293\n",
       "Waist_Sq      -0.0010      0.000     -5.871      0.000      -0.001      -0.001\n",
       "==============================================================================\n",
       "Omnibus:                        0.325   Durbin-Watson:                   1.464\n",
       "Prob(Omnibus):                  0.850   Jarque-Bera (JB):                0.271\n",
       "Skew:                           0.119   Prob(JB):                        0.873\n",
       "Kurtosis:                       2.949   Cond. No.                     4.49e+05\n",
       "==============================================================================\n",
       "\n",
       "Notes:\n",
       "[1] Standard Errors assume that the covariance matrix of the errors is correctly specified.\n",
       "[2] The condition number is large, 4.49e+05. This might indicate that there are\n",
       "strong multicollinearity or other numerical problems.\n",
       "\"\"\""
      ]
     },
     "execution_count": 18,
     "metadata": {},
     "output_type": "execute_result"
    }
   ],
   "source": [
    "wcat[\"Waist_Sq\"] = wcat.Waist**2\n",
    "model_quad = smf.ols(\"np.log(AT)~Waist+Waist_Sq\",data=wcat).fit()\n",
    "# model_quad.params\n",
    "model_quad.summary()"
   ]
  },
  {
   "cell_type": "code",
   "execution_count": 19,
   "metadata": {},
   "outputs": [
    {
     "data": {
      "text/plain": [
       "10.000000000000002"
      ]
     },
     "execution_count": 19,
     "metadata": {},
     "output_type": "execute_result"
    }
   ],
   "source": [
    "np.exp(np.log(10))"
   ]
  },
  {
   "cell_type": "code",
   "execution_count": 20,
   "metadata": {},
   "outputs": [
    {
     "data": {
      "text/plain": [
       "array([ 42.51636055,  38.99160066,  56.46768397,  61.57224557,\n",
       "        42.34556589,  37.83206188,  54.45863008,  60.22408646,\n",
       "        27.03275403,  39.94476827,  37.90828016,  42.94636711,\n",
       "        39.78430408,  50.44894003,  46.54673672,  33.52862945,\n",
       "        44.62043146,  41.50182925,  40.92123649,  44.53071776,\n",
       "        46.26654065,  54.45863008,  52.31007093,  76.06105776,\n",
       "        56.92411091,  85.13542146,  68.50317676,  53.58881467,\n",
       "        66.86854444,  58.08138418,  60.46699153,  72.76672296,\n",
       "        81.12087122,  76.67585747, 127.32811935,  94.14858537,\n",
       "        81.77656928, 132.55793439,  52.52105597,  50.44894003,\n",
       "        60.46699153,  44.71032591,  53.58881467,  68.22798912,\n",
       "        59.26218495, 156.34337468,  93.39368643,  94.14858537,\n",
       "        51.89064013,  51.06184076,  77.92040529,  61.20160087,\n",
       "        64.7495489 ,  43.81947136,  49.24512042,  49.64316755,\n",
       "        71.89329622,  67.68092581,  65.53618674,  60.95574477,\n",
       "        47.6845931 ,  63.97235315,  52.09993346, 164.0805738 ,\n",
       "       258.58124657, 261.72273245, 102.04144635, 146.59165113,\n",
       "       143.67080819, 155.71531967, 155.71531967, 122.30463648,\n",
       "       104.11595989, 117.47934533, 162.11109716, 117.47934533,\n",
       "       132.55793439, 138.00255637, 149.57187511, 168.7695718 ,\n",
       "       135.2528514 , 175.70153348, 175.70153348, 190.43131166,\n",
       "       165.40683315, 138.00255637, 182.91821528, 165.40683315,\n",
       "       273.57158685, 168.7695718 , 106.23264852, 146.59165113,\n",
       "       108.39236966,  94.14858537, 104.11595989, 143.67080819,\n",
       "       149.57187511, 112.84442665,  81.77656928, 129.91671367,\n",
       "       149.57187511, 169.45027924, 214.87335705, 122.30463648,\n",
       "       117.95318113,  89.7090205 , 126.30718143, 161.45987233,\n",
       "       165.40683315])"
      ]
     },
     "execution_count": 20,
     "metadata": {},
     "output_type": "execute_result"
    }
   ],
   "source": [
    "np.exp(model3.predict())"
   ]
  },
  {
   "cell_type": "code",
   "execution_count": 21,
   "metadata": {},
   "outputs": [
    {
     "data": {
      "text/plain": [
       "(1, 2)"
      ]
     },
     "execution_count": 21,
     "metadata": {},
     "output_type": "execute_result"
    }
   ],
   "source": [
    "np.array([[12,1]]).shape"
   ]
  },
  {
   "cell_type": "code",
   "execution_count": 22,
   "metadata": {},
   "outputs": [
    {
     "ename": "NameError",
     "evalue": "name 'exp' is not defined",
     "output_type": "error",
     "traceback": [
      "\u001b[0;31m---------------------------------------------------------------------------\u001b[0m",
      "\u001b[0;31mNameError\u001b[0m                                 Traceback (most recent call last)",
      "Input \u001b[0;32mIn [22]\u001b[0m, in \u001b[0;36m<cell line: 3>\u001b[0;34m()\u001b[0m\n\u001b[1;32m      1\u001b[0m logy\u001b[38;5;241m=\u001b[39m\u001b[38;5;241m10\u001b[39m\n\u001b[0;32m----> 3\u001b[0m y\u001b[38;5;241m=\u001b[39m\u001b[43mexp\u001b[49m(\u001b[38;5;241m10\u001b[39m)\n",
      "\u001b[0;31mNameError\u001b[0m: name 'exp' is not defined"
     ]
    }
   ],
   "source": [
    "logy=10\n",
    "\n",
    "y=exp(10)"
   ]
  },
  {
   "cell_type": "code",
   "execution_count": 32,
   "metadata": {},
   "outputs": [],
   "source": [
    "wcat.iloc[109:110,:]=np.array([[1,2,3]])"
   ]
  },
  {
   "cell_type": "code",
   "execution_count": 34,
   "metadata": {},
   "outputs": [
    {
     "data": {
      "text/plain": [
       "(1, 3)"
      ]
     },
     "execution_count": 34,
     "metadata": {},
     "output_type": "execute_result"
    }
   ],
   "source": [
    "np.array([[1,2,3]]).shape"
   ]
  },
  {
   "cell_type": "code",
   "execution_count": 33,
   "metadata": {},
   "outputs": [
    {
     "data": {
      "text/html": [
       "<div>\n",
       "<style scoped>\n",
       "    .dataframe tbody tr th:only-of-type {\n",
       "        vertical-align: middle;\n",
       "    }\n",
       "\n",
       "    .dataframe tbody tr th {\n",
       "        vertical-align: top;\n",
       "    }\n",
       "\n",
       "    .dataframe thead th {\n",
       "        text-align: right;\n",
       "    }\n",
       "</style>\n",
       "<table border=\"1\" class=\"dataframe\">\n",
       "  <thead>\n",
       "    <tr style=\"text-align: right;\">\n",
       "      <th></th>\n",
       "      <th>Waist</th>\n",
       "      <th>AT</th>\n",
       "      <th>Waist_Sq</th>\n",
       "    </tr>\n",
       "  </thead>\n",
       "  <tbody>\n",
       "    <tr>\n",
       "      <th>0</th>\n",
       "      <td>74.75</td>\n",
       "      <td>25.72</td>\n",
       "      <td>5587.5625</td>\n",
       "    </tr>\n",
       "    <tr>\n",
       "      <th>1</th>\n",
       "      <td>72.60</td>\n",
       "      <td>25.89</td>\n",
       "      <td>5270.7600</td>\n",
       "    </tr>\n",
       "    <tr>\n",
       "      <th>2</th>\n",
       "      <td>81.80</td>\n",
       "      <td>42.60</td>\n",
       "      <td>6691.2400</td>\n",
       "    </tr>\n",
       "    <tr>\n",
       "      <th>3</th>\n",
       "      <td>83.95</td>\n",
       "      <td>42.80</td>\n",
       "      <td>7047.6025</td>\n",
       "    </tr>\n",
       "    <tr>\n",
       "      <th>4</th>\n",
       "      <td>74.65</td>\n",
       "      <td>29.84</td>\n",
       "      <td>5572.6225</td>\n",
       "    </tr>\n",
       "    <tr>\n",
       "      <th>...</th>\n",
       "      <td>...</td>\n",
       "      <td>...</td>\n",
       "      <td>...</td>\n",
       "    </tr>\n",
       "    <tr>\n",
       "      <th>104</th>\n",
       "      <td>100.10</td>\n",
       "      <td>124.00</td>\n",
       "      <td>10020.0100</td>\n",
       "    </tr>\n",
       "    <tr>\n",
       "      <th>105</th>\n",
       "      <td>93.30</td>\n",
       "      <td>62.20</td>\n",
       "      <td>8704.8900</td>\n",
       "    </tr>\n",
       "    <tr>\n",
       "      <th>106</th>\n",
       "      <td>101.80</td>\n",
       "      <td>133.00</td>\n",
       "      <td>10363.2400</td>\n",
       "    </tr>\n",
       "    <tr>\n",
       "      <th>107</th>\n",
       "      <td>107.90</td>\n",
       "      <td>208.00</td>\n",
       "      <td>11642.4100</td>\n",
       "    </tr>\n",
       "    <tr>\n",
       "      <th>108</th>\n",
       "      <td>108.50</td>\n",
       "      <td>208.00</td>\n",
       "      <td>11772.2500</td>\n",
       "    </tr>\n",
       "  </tbody>\n",
       "</table>\n",
       "<p>109 rows × 3 columns</p>\n",
       "</div>"
      ],
      "text/plain": [
       "      Waist      AT    Waist_Sq\n",
       "0     74.75   25.72   5587.5625\n",
       "1     72.60   25.89   5270.7600\n",
       "2     81.80   42.60   6691.2400\n",
       "3     83.95   42.80   7047.6025\n",
       "4     74.65   29.84   5572.6225\n",
       "..      ...     ...         ...\n",
       "104  100.10  124.00  10020.0100\n",
       "105   93.30   62.20   8704.8900\n",
       "106  101.80  133.00  10363.2400\n",
       "107  107.90  208.00  11642.4100\n",
       "108  108.50  208.00  11772.2500\n",
       "\n",
       "[109 rows x 3 columns]"
      ]
     },
     "execution_count": 33,
     "metadata": {},
     "output_type": "execute_result"
    }
   ],
   "source": [
    "wcat"
   ]
  },
  {
   "cell_type": "code",
   "execution_count": 54,
   "metadata": {},
   "outputs": [],
   "source": [
    "wcat.loc[110,:]=[1,2]"
   ]
  },
  {
   "cell_type": "code",
   "execution_count": null,
   "metadata": {},
   "outputs": [],
   "source": []
  }
 ],
 "metadata": {
  "kernelspec": {
   "display_name": "Python 3 (ipykernel)",
   "language": "python",
   "name": "python3"
  },
  "language_info": {
   "codemirror_mode": {
    "name": "ipython",
    "version": 3
   },
   "file_extension": ".py",
   "mimetype": "text/x-python",
   "name": "python",
   "nbconvert_exporter": "python",
   "pygments_lexer": "ipython3",
   "version": "3.9.12"
  }
 },
 "nbformat": 4,
 "nbformat_minor": 2
}
